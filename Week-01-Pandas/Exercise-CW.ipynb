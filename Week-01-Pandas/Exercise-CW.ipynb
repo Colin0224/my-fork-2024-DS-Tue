{
 "cells": [
  {
   "cell_type": "markdown",
   "metadata": {},
   "source": [
    "# First print your name in the cell below then save this file. (or something nice about your instructor)"
   ]
  },
  {
   "cell_type": "code",
   "execution_count": 5,
   "metadata": {},
   "outputs": [],
   "source": [
    "#Colin Wong\n",
    "\n"
   ]
  },
  {
   "cell_type": "markdown",
   "metadata": {},
   "source": [
    "# Data wrangling with Pandas exercise\n",
    "* For this exercise we will be using the `listings.csv` data file."
   ]
  },
  {
   "cell_type": "code",
   "execution_count": 2,
   "metadata": {},
   "outputs": [],
   "source": [
    "import pandas as pd\n",
    "import numpy as np"
   ]
  },
  {
   "cell_type": "markdown",
   "metadata": {},
   "source": [
    "# Load in the data file using `pd.read_csv()`"
   ]
  },
  {
   "cell_type": "code",
   "execution_count": 3,
   "metadata": {},
   "outputs": [],
   "source": [
    "# Load data here\n",
    "listings = pd.read_csv(\"./data/listings.csv\")\n"
   ]
  },
  {
   "cell_type": "markdown",
   "metadata": {},
   "source": [
    "## Exercise 2 - Filtering\n",
    "\n",
    "Return the following subsets of the dataframe.\n",
    "\n",
    "1. How many listings are there with a price less than 100? \n",
    "\n",
    "\n",
    "2. Find how many listings there are in just Brooklyn.\n",
    "\n",
    "\n",
    "3. Find how many listings there are in Brooklyn with a price less than 100.\n",
    "\n",
    "\n",
    "4. Using `.isin()` select anyone that has the host name of Michael, David, John, and Daniel.\n",
    "\n",
    "\n",
    "5. Create a new column called `adjusted_price` that has $100 added to every listing in Williamsburg.  The prices for all other listings should be the same as the were before. \n",
    "\n",
    "\n",
    "6. What % of the rooms are private, and what % of the rooms are shared.  \n",
    "    * Hint, use `.value_counts()`\n"
   ]
  },
  {
   "cell_type": "code",
   "execution_count": 4,
   "metadata": {},
   "outputs": [
    {
     "name": "stdout",
     "output_type": "stream",
     "text": [
      "22778\n"
     ]
    }
   ],
   "source": [
    "# 1. How many listings are there with a price less than 100? \n",
    "list_Num = listings[listings['price'] < 100].shape[0]\n",
    "print(list_Num)\n"
   ]
  },
  {
   "cell_type": "code",
   "execution_count": 5,
   "metadata": {},
   "outputs": [
    {
     "name": "stdout",
     "output_type": "stream",
     "text": [
      "             id                                               name    host_id  \\\n",
      "1          3831  Whole flr w/private bdrm, bath & kitchen(pls r...       4869   \n",
      "2          5121                                    BlissArtsSpace!       7356   \n",
      "3          5136           Spacious Brooklyn Duplex, Patio + Garden       7378   \n",
      "8          5803     Lovely Room 1, Garden, Best Area, Legal rental       9744   \n",
      "11         6848                   Only 2 stops to Manhattan studio      15991   \n",
      "...         ...                                                ...        ...   \n",
      "46517  44802032                  A very large room in Williamsburg  213793805   \n",
      "46518  44802224  Unique & beautiful design! Skylights-Washer/dryer  143513836   \n",
      "46519  44803201  1200 SF Duplex apt in an old shoe factory/ mon...     921746   \n",
      "46524  44811717  Comfortable safe environment 24hr security camera  362453686   \n",
      "46526  44818009  5MIN D/N trains, NEAR THE BEACH, 50’ TO MANHATTAN   48098268   \n",
      "\n",
      "             host_name neighbourhood_group       neighbourhood  latitude  \\\n",
      "1          LisaRoxanne            Brooklyn        Clinton Hill  40.68514   \n",
      "2                Garon            Brooklyn  Bedford-Stuyvesant  40.68688   \n",
      "3              Rebecca            Brooklyn         Sunset Park  40.66120   \n",
      "8               Laurie            Brooklyn         South Slope  40.66829   \n",
      "11       Allen & Irina            Brooklyn        Williamsburg  40.70837   \n",
      "...                ...                 ...                 ...       ...   \n",
      "46517             Omer            Brooklyn        Williamsburg  40.71970   \n",
      "46518        Elisabeth            Brooklyn       Crown Heights  40.67302   \n",
      "46519  Michael + Josué            Brooklyn        Clinton Hill  40.69034   \n",
      "46524           Nicole            Brooklyn       East Flatbush  40.65399   \n",
      "46526           Marina            Brooklyn           Gravesend  40.59945   \n",
      "\n",
      "       longitude        room_type  price  minimum_nights  number_of_reviews  \\\n",
      "1      -73.95976  Entire home/apt     75               1                340   \n",
      "2      -73.95596     Private room     60              29                 50   \n",
      "3      -73.99423  Entire home/apt    175              14                  1   \n",
      "8      -73.98779     Private room     88               4                180   \n",
      "11     -73.95352  Entire home/apt    109               2                181   \n",
      "...          ...              ...    ...             ...                ...   \n",
      "46517  -73.95632     Private room     55              14                  0   \n",
      "46518  -73.91695     Private room     61              30                  0   \n",
      "46519  -73.96179  Entire home/apt    253              30                  0   \n",
      "46524  -73.93287     Private room     59               3                  0   \n",
      "46526  -73.98209     Private room     66               1                  0   \n",
      "\n",
      "      last_review  reviews_per_month  calculated_host_listings_count  \\\n",
      "1      2020-08-01               4.75                               1   \n",
      "2      2019-12-02               0.37                               1   \n",
      "3      2014-01-02               0.01                               1   \n",
      "8      2020-03-18               1.31                               3   \n",
      "11     2020-03-16               1.32                               1   \n",
      "...           ...                ...                             ...   \n",
      "46517         NaN                NaN                               1   \n",
      "46518         NaN                NaN                               5   \n",
      "46519         NaN                NaN                               1   \n",
      "46524         NaN                NaN                               1   \n",
      "46526         NaN                NaN                               1   \n",
      "\n",
      "       availability_365  \n",
      "1                   265  \n",
      "2                   365  \n",
      "3                   295  \n",
      "8                   344  \n",
      "11                    0  \n",
      "...                 ...  \n",
      "46517                45  \n",
      "46518               363  \n",
      "46519                74  \n",
      "46524                90  \n",
      "46526                38  \n",
      "\n",
      "[18632 rows x 16 columns]\n",
      "18632\n"
     ]
    }
   ],
   "source": [
    "# 2. Make a new DataFrame of listings in Brooklyn named `df_bk` \n",
    "# and find how many listings in just Brooklyn.\n",
    "df_bk = listings[listings['neighbourhood_group'] == \"Brooklyn\"]\n",
    "print(df_bk)\n",
    "print(df_bk.shape[0])\n"
   ]
  },
  {
   "cell_type": "code",
   "execution_count": 6,
   "metadata": {},
   "outputs": [
    {
     "name": "stdout",
     "output_type": "stream",
     "text": [
      "10473\n"
     ]
    }
   ],
   "source": [
    "# 3. Find how many listings there are in Brooklyn with a price less than 100.\n",
    "print(df_bk[df_bk['price'] < 100].shape[0])\n",
    "\n"
   ]
  },
  {
   "cell_type": "code",
   "execution_count": 7,
   "metadata": {},
   "outputs": [
    {
     "name": "stdout",
     "output_type": "stream",
     "text": [
      "             id                                               name    host_id  \\\n",
      "52        16595  LOFT HAVEN ~ Six Windows ~ Bricks ~ Plants ~ Q...      64522   \n",
      "201       61747              Cozy,  Brooklyn, Prospect Park Studio     299370   \n",
      "209       62903  Beautiful modern studio apartment in heart of NYC     306605   \n",
      "220       64015                       Prime East Village 1 Bedroom     146944   \n",
      "260       74073       Food & Music Dream Apartment in Williamsburg     211877   \n",
      "...         ...                                                ...        ...   \n",
      "46362  44639591  Central & Stylish 1 Bedroom Apt - Heart of Che...  286136716   \n",
      "46396  44661297                       Flushing Sunshine home  #101  361579037   \n",
      "46403  44662157                        Flushing Sunshine home #102  361579037   \n",
      "46455  44697211                           David’s Queen Sized Room  343477029   \n",
      "46508  44797527    Long-Term: Furnished Apt in Nolita w/ Amenities   19448640   \n",
      "\n",
      "      host_name neighbourhood_group              neighbourhood  latitude  \\\n",
      "52       Daniel            Brooklyn               Williamsburg  40.70933   \n",
      "201       David            Brooklyn  Prospect-Lefferts Gardens  40.65979   \n",
      "209      Daniel           Manhattan                    Chelsea  40.74238   \n",
      "220       David           Manhattan               East Village  40.72807   \n",
      "260      Daniel            Brooklyn               Williamsburg  40.71113   \n",
      "...         ...                 ...                        ...       ...   \n",
      "46362      John           Manhattan                    Chelsea  40.74568   \n",
      "46396    Daniel              Queens                   Flushing  40.74603   \n",
      "46403    Daniel              Queens                   Flushing  40.74441   \n",
      "46455     David              Queens               Far Rockaway  40.59460   \n",
      "46508     David           Manhattan                     Nolita  40.72289   \n",
      "\n",
      "       longitude        room_type  price  minimum_nights  number_of_reviews  \\\n",
      "52     -73.96792  Entire home/apt    271               1                172   \n",
      "201    -73.96180  Entire home/apt     91              14                 97   \n",
      "209    -73.99567  Entire home/apt    205              15                 68   \n",
      "220    -73.98594  Entire home/apt    200               3                  0   \n",
      "260    -73.96054  Entire home/apt    187              30                 90   \n",
      "...          ...              ...    ...             ...                ...   \n",
      "46362  -73.99694  Entire home/apt    110              30                  0   \n",
      "46396  -73.82837     Private room     52               1                  0   \n",
      "46403  -73.82829     Private room     55               1                  3   \n",
      "46455  -73.75875     Private room     95               1                  0   \n",
      "46508  -73.99400  Entire home/apt    140              30                  0   \n",
      "\n",
      "      last_review  reviews_per_month  calculated_host_listings_count  \\\n",
      "52     2020-07-14               1.44                               1   \n",
      "201    2018-01-31               0.83                               1   \n",
      "209    2019-12-14               0.67                               2   \n",
      "220           NaN                NaN                               1   \n",
      "260    2020-07-31               0.81                               1   \n",
      "...           ...                ...                             ...   \n",
      "46362         NaN                NaN                               3   \n",
      "46396         NaN                NaN                               2   \n",
      "46403  2020-08-16               3.00                               2   \n",
      "46455         NaN                NaN                               1   \n",
      "46508         NaN                NaN                               1   \n",
      "\n",
      "       availability_365  \n",
      "52                  365  \n",
      "201                  44  \n",
      "209                  89  \n",
      "220                   0  \n",
      "260                 261  \n",
      "...                 ...  \n",
      "46362               110  \n",
      "46396               360  \n",
      "46403               365  \n",
      "46455               365  \n",
      "46508               282  \n",
      "\n",
      "[1258 rows x 16 columns]\n"
     ]
    }
   ],
   "source": [
    "# 4. Using `.isin()` select anyone that has the host name of Michael, David, John, and Daniel.\n",
    "# How many total are there that have those names\n",
    "\n",
    "print(listings[listings['host_name'].isin(['Michael', 'David', 'John', 'Daniel'])])"
   ]
  },
  {
   "cell_type": "code",
   "execution_count": 12,
   "metadata": {},
   "outputs": [
    {
     "name": "stdout",
     "output_type": "stream",
     "text": [
      "             id                                               name    host_id  \\\n",
      "0          2595                              Skylit Midtown Castle       2845   \n",
      "1          3831  Whole flr w/private bdrm, bath & kitchen(pls r...       4869   \n",
      "2          5121                                    BlissArtsSpace!       7356   \n",
      "3          5136           Spacious Brooklyn Duplex, Patio + Garden       7378   \n",
      "4          5178                   Large Furnished Room Near B'way　       8967   \n",
      "...         ...                                                ...        ...   \n",
      "46522  44807522         Designer Gramercy Studio Townhouse by UNSQ   12941925   \n",
      "46523  44807786  Cozy & comfy apt in the heart of Inwood Manhattan  284790520   \n",
      "46524  44811717  Comfortable safe environment 24hr security camera  362453686   \n",
      "46525  44814944                 Upper West Side studio 86th Street    4039777   \n",
      "46526  44818009  5MIN D/N trains, NEAR THE BEACH, 50’ TO MANHATTAN   48098268   \n",
      "\n",
      "         host_name neighbourhood_group       neighbourhood  latitude  \\\n",
      "0         Jennifer           Manhattan             Midtown  40.75362   \n",
      "1      LisaRoxanne            Brooklyn        Clinton Hill  40.68514   \n",
      "2            Garon            Brooklyn  Bedford-Stuyvesant  40.68688   \n",
      "3          Rebecca            Brooklyn         Sunset Park  40.66120   \n",
      "4         Shunichi           Manhattan      Hell's Kitchen  40.76489   \n",
      "...            ...                 ...                 ...       ...   \n",
      "46522        Brian           Manhattan            Gramercy  40.73433   \n",
      "46523        Salar           Manhattan  Washington Heights  40.85820   \n",
      "46524       Nicole            Brooklyn       East Flatbush  40.65399   \n",
      "46525     Fernando           Manhattan     Upper West Side  40.78731   \n",
      "46526       Marina            Brooklyn           Gravesend  40.59945   \n",
      "\n",
      "       longitude        room_type  price  minimum_nights  number_of_reviews  \\\n",
      "0      -73.98377  Entire home/apt    175               3                 48   \n",
      "1      -73.95976  Entire home/apt     75               1                340   \n",
      "2      -73.95596     Private room     60              29                 50   \n",
      "3      -73.99423  Entire home/apt    175              14                  1   \n",
      "4      -73.98493     Private room     65               2                473   \n",
      "...          ...              ...    ...             ...                ...   \n",
      "46522  -73.98383  Entire home/apt    145               7                  0   \n",
      "46523  -73.92733  Entire home/apt     87               6                  0   \n",
      "46524  -73.93287     Private room     59               3                  0   \n",
      "46525  -73.97029  Entire home/apt     80              30                  0   \n",
      "46526  -73.98209     Private room     66               1                  0   \n",
      "\n",
      "      last_review  reviews_per_month  calculated_host_listings_count  \\\n",
      "0      2019-11-04               0.37                               2   \n",
      "1      2020-08-01               4.75                               1   \n",
      "2      2019-12-02               0.37                               1   \n",
      "3      2014-01-02               0.01                               1   \n",
      "4      2020-03-15               3.44                               1   \n",
      "...           ...                ...                             ...   \n",
      "46522         NaN                NaN                               1   \n",
      "46523         NaN                NaN                               2   \n",
      "46524         NaN                NaN                               1   \n",
      "46525         NaN                NaN                               1   \n",
      "46526         NaN                NaN                               1   \n",
      "\n",
      "       availability_365  adjusted_price  \n",
      "0                   365             175  \n",
      "1                   265              75  \n",
      "2                   365              60  \n",
      "3                   295             175  \n",
      "4                   340              65  \n",
      "...                 ...             ...  \n",
      "46522               164             145  \n",
      "46523                85              87  \n",
      "46524                90              59  \n",
      "46525               113              80  \n",
      "46526                38              66  \n",
      "\n",
      "[46527 rows x 17 columns]\n"
     ]
    }
   ],
   "source": [
    "# 5. Create a new column called `adjusted_price` that has $100 added to every listing in Williamsburg.  \n",
    "# The prices for all other listings should be the same as the were before. \n",
    "\n",
    "listings['adjusted_price'] = listings['price']\n",
    "listings.loc[listings['neighbourhood'] == \"Williamsburg\", 'adjusted_price'] += 100;\n",
    "print(listings)"
   ]
  },
  {
   "cell_type": "code",
   "execution_count": 22,
   "metadata": {},
   "outputs": [
    {
     "name": "stdout",
     "output_type": "stream",
     "text": [
      "['Entire home/apt' 'Private room' 'Shared room' 'Hotel room']\n",
      "Total Percent for Private: 45.0 %\n",
      "Total Percent for Shared: 2.0 %\n"
     ]
    }
   ],
   "source": [
    "# 6. What % of the rooms are private, and what % of the rooms are shared.  \n",
    "print(listings['room_type'].unique())\n",
    "totalNum = listings['room_type'].shape[0]\n",
    "PrivNum = listings[listings['room_type'].isin(['Private room'])].shape[0];\n",
    "SharedNum = listings[listings['room_type'].isin(['Shared room'])].shape[0];\n",
    "\n",
    "print(f\"Total Percent for Private: {round(PrivNum / totalNum, 2) * 100} %\")\n",
    "print(f\"Total Percent for Shared: {round(SharedNum / totalNum, 2) * 100 } %\")"
   ]
  },
  {
   "cell_type": "markdown",
   "metadata": {},
   "source": [
    "# Exercise 3 - Grouping\n",
    "\n",
    "1. Using `groupby`, count how many listings are in each neighbourhood_group.\n",
    "\n",
    "\n",
    "2. Using `groupby`, find the mean price for each of the neighbourhood_groups. \n",
    "\n",
    "\n",
    "3. Using `groupby` and `.agg()`, find the min and max price for each of the neighbourhood_groups. \n",
    "\n",
    "\n",
    "4. Using `groupby`, find the median price for each room type in each neighbourhood_group.\n",
    "\n",
    "\n",
    "5. Using `groupby` and `.agg()`, find the count, min, max, mean, median, and std of the prices for each room type in each neighbourhood_group."
   ]
  },
  {
   "cell_type": "code",
   "execution_count": 26,
   "metadata": {},
   "outputs": [
    {
     "name": "stdout",
     "output_type": "stream",
     "text": [
      "Bronx: 1183\n",
      "Brooklyn: 18632\n",
      "Manhattan: 20580\n",
      "Queens: 5791\n",
      "Staten Island: 341\n"
     ]
    }
   ],
   "source": [
    "# 1. Using `groupby`, count how many listings are in each neighbourhood_group.\n",
    "\n",
    "groupList = listings.groupby('neighbourhood_group')\n",
    "\n",
    "for group_key, group_data in groupList:\n",
    "    print(f\"{group_key}: {group_data.shape[0]}\")\n"
   ]
  },
  {
   "cell_type": "code",
   "execution_count": 28,
   "metadata": {},
   "outputs": [
    {
     "name": "stdout",
     "output_type": "stream",
     "text": [
      "Bronx: 92.75147928994083\n",
      "Brooklyn: 120.22525762129669\n",
      "Manhattan: 191.8804664723032\n",
      "Queens: 99.75496460024175\n",
      "Staten Island: 110.94721407624634\n"
     ]
    }
   ],
   "source": [
    "# 2. Using `groupby`, find the mean price for each of the neighbourhood_groups. \n",
    "\n",
    "for group_key, group_data in groupList:\n",
    "    print(f\"{group_key}: {group_data['price'].mean()}\")\n"
   ]
  },
  {
   "cell_type": "code",
   "execution_count": 31,
   "metadata": {},
   "outputs": [
    {
     "name": "stdout",
     "output_type": "stream",
     "text": [
      "Entire home/apt: 199.39594966247188\n",
      "Hotel room: 275.0150753768844\n",
      "Private room: 91.45308361710178\n",
      "Shared room: 87.06382978723404\n"
     ]
    }
   ],
   "source": [
    "# 2.5. Using `groupby`, find the mean price for each room_type. \n",
    "groupType = listings.groupby('room_type')\n",
    "\n",
    "for group_key, group_data in groupType:\n",
    "    print(f\"{group_key}: {group_data['price'].mean()}\")"
   ]
  },
  {
   "cell_type": "code",
   "execution_count": 35,
   "metadata": {},
   "outputs": [
    {
     "name": "stdout",
     "output_type": "stream",
     "text": [
      "                     price    \n",
      "                       max min\n",
      "neighbourhood_group           \n",
      "Bronx                 1404  16\n",
      "Brooklyn             10000   0\n",
      "Manhattan            10000   0\n",
      "Queens               10000   0\n",
      "Staten Island         1200  19\n"
     ]
    }
   ],
   "source": [
    "# 3. Using `groupby` and `.agg()`, find the min and max price for each of the neighbourhood_groups. \n",
    "\n",
    "result = groupList.agg({\n",
    "    'price': ['max', 'min'] \n",
    "}\n",
    ")\n",
    "\n",
    "print(result)"
   ]
  },
  {
   "cell_type": "code",
   "execution_count": 49,
   "metadata": {},
   "outputs": [
    {
     "name": "stdout",
     "output_type": "stream",
     "text": [
      "neighbourhood_group\n",
      "Bronx             92.751479\n",
      "Brooklyn         120.225258\n",
      "Manhattan        191.880466\n",
      "Queens            99.754965\n",
      "Staten Island    110.947214\n",
      "Name: price, dtype: float64\n"
     ]
    }
   ],
   "source": [
    "# 4. Using `groupby`, find the mean price for each room_type in each neighbourhood_group.\n",
    "\n",
    "grouped = listings.groupby('neighbourhood_group')\n",
    "\n",
    "mean_price = grouped['price'].mean()\n",
    "\n",
    "print(mean_price)\n",
    "\n"
   ]
  },
  {
   "cell_type": "code",
   "execution_count": 52,
   "metadata": {},
   "outputs": [
    {
     "name": "stdout",
     "output_type": "stream",
     "text": [
      "                                     count  min    max        mean  median  \\\n",
      "neighbourhood_group room_type                                                \n",
      "Bronx               Entire home/apt    415   25   1404  138.004819   103.0   \n",
      "                    Private room       722   16    700   68.419668    55.0   \n",
      "                    Shared room         46   20    800   66.391304    44.0   \n",
      "Brooklyn            Entire home/apt   9112   20  10000  171.587687   135.0   \n",
      "                    Hotel room          30    0    399  147.300000   129.0   \n",
      "                    Private room      9159   10   2500   71.291189    60.0   \n",
      "                    Shared room        331   15   1500   57.870091    36.0   \n",
      "Manhattan           Entire home/apt  12209    0  10000  231.335572   165.0   \n",
      "                    Hotel room         351    0   2211  292.515670   210.0   \n",
      "                    Private room      7601   10  10000  128.277069    80.0   \n",
      "                    Shared room        419   10  10000  111.735084    60.0   \n",
      "Queens              Entire home/apt   2090   10  10000  150.168900   115.0   \n",
      "                    Hotel room          17    0    249  139.058824   149.0   \n",
      "                    Private room      3499   18   9000   69.972564    55.0   \n",
      "                    Shared room        185   14   3000   89.891892    40.0   \n",
      "Staten Island       Entire home/apt    172   39   1200  151.720930   111.0   \n",
      "                    Private room       163   20    800   70.312883    55.0   \n",
      "                    Shared room          6   19     82   46.000000    38.0   \n",
      "\n",
      "                                            std  \n",
      "neighbourhood_group room_type                    \n",
      "Bronx               Entire home/apt  126.032106  \n",
      "                    Private room      57.337866  \n",
      "                    Shared room      114.442703  \n",
      "Brooklyn            Entire home/apt  236.732843  \n",
      "                    Hotel room        91.153206  \n",
      "                    Private room      69.023165  \n",
      "                    Shared room       92.217618  \n",
      "Manhattan           Entire home/apt  410.306439  \n",
      "                    Hotel room       315.924085  \n",
      "                    Private room     448.677306  \n",
      "                    Shared room      502.728868  \n",
      "Queens              Entire home/apt  252.606739  \n",
      "                    Hotel room        50.743806  \n",
      "                    Private room     163.814468  \n",
      "                    Shared room      275.675158  \n",
      "Staten Island       Entire home/apt  147.518392  \n",
      "                    Private room      70.759593  \n",
      "                    Shared room       28.446441  \n"
     ]
    },
    {
     "name": "stderr",
     "output_type": "stream",
     "text": [
      "C:\\Users\\colin\\AppData\\Local\\Temp\\ipykernel_18820\\3105705286.py:4: FutureWarning: The provided callable <function median at 0x000001DC1F8B2340> is currently using SeriesGroupBy.median. In a future version of pandas, the provided callable will be used directly. To keep current behavior pass the string \"median\" instead.\n",
      "  distribution = grouped['price'].agg(['count', 'min', 'max', 'mean', np.median, 'std'])\n"
     ]
    }
   ],
   "source": [
    "# 5. Using `groupby` and `.agg()`, find the count, min, max, mean, median, and std of the prices \n",
    "# for each room type in each neighbourhood_group.\n",
    "grouped = listings.groupby(['neighbourhood_group', 'room_type'])\n",
    "distribution = grouped['price'].agg(['count', 'min', 'max', 'mean', np.median, 'std'])\n",
    "distribution.rename(columns={'median': 'median'}, inplace=True)\n",
    "print(distribution)\n",
    "\n"
   ]
  },
  {
   "cell_type": "markdown",
   "metadata": {},
   "source": [
    "# Load, Merge, and Export files.\n",
    "1. Load the `prices.csv` and the `n_listings.csv`\n",
    "    * Having an error..? Inspect the actual csv file if you're having trouble\n",
    "\n",
    "2. Do join that keeps all the records for each table.\n",
    "    * Neighbourhood groups should include ['Bronx', 'Brooklyn', 'Manhattan', 'Queens', 'Staten Island',\n",
    "       'LongIsland']\n",
    "\n",
    "       \n",
    "3. Save your joined csv as `joined.csv` into the data folder. \n",
    "\n",
    "\n",
    "4. Load your saved table and see if it looks the same or different that the DataFrame you used to create it. "
   ]
  },
  {
   "cell_type": "code",
   "execution_count": 63,
   "metadata": {},
   "outputs": [],
   "source": [
    "# 1. Load the `prices.csv` and the `n_listings.csv`\n",
    "prices = pd.read_csv('./data/prices.csv')\n",
    "n_listings = pd.read_csv('./data/n_listings.csv', delimiter=';')"
   ]
  },
  {
   "cell_type": "code",
   "execution_count": 64,
   "metadata": {},
   "outputs": [
    {
     "name": "stdout",
     "output_type": "stream",
     "text": [
      "  neighbourhood_group   mean_price  n_listings\n",
      "0               Bronx    92.751479      1183.0\n",
      "1            Brooklyn   120.225258     18632.0\n",
      "2          LongIsland          NaN      4121.0\n",
      "3           Manhattan   191.880466     20580.0\n",
      "4              Queens    99.754965         NaN\n",
      "5       Staten Island   110.947214         NaN\n"
     ]
    }
   ],
   "source": [
    "# 2. Do join that keeps all the records for each table.\n",
    "merged = pd.merge(prices, n_listings, how='outer', on='neighbourhood_group')\n",
    "print(merged)\n"
   ]
  },
  {
   "cell_type": "code",
   "execution_count": 65,
   "metadata": {},
   "outputs": [],
   "source": [
    "# 3. Save your joined csv as `joined.csv` into the data folder. \n",
    "merged.to_csv('./data/joined.csv', index = False)"
   ]
  },
  {
   "cell_type": "code",
   "execution_count": null,
   "metadata": {},
   "outputs": [],
   "source": [
    "# 4. Load your newly saved file, see if it looks the same.  If not, try saving with argument `index=False`"
   ]
  },
  {
   "cell_type": "markdown",
   "metadata": {},
   "source": [
    "# Extra Credit\n",
    "Every question below this cell is extra credit and optional."
   ]
  },
  {
   "cell_type": "markdown",
   "metadata": {},
   "source": [
    "### 1. (Easy) Explore this new PandasAI Package and tell me what its all about because I've never used it. \n",
    "* https://www.youtube.com/watch?v=5w6eZaoDVVk&ab_channel=CodingIsFun  \n",
    "* See if you can use it on the listings.csv to find out some cool info. or answer some of the questions above. "
   ]
  },
  {
   "cell_type": "markdown",
   "metadata": {},
   "source": [
    "### 2. (Very Easy) Find other cool Panda packages / add ons and show us what they can do well. And how you installed them. "
   ]
  },
  {
   "cell_type": "markdown",
   "metadata": {},
   "source": [
    "### 3. (Medium) Use the grammys.csv data for the next section of questions.\n",
    "\n",
    "1. Who was won Album of the Year in 2016?\n",
    "\n",
    "\n",
    "2. Who won Best Rap Album in 2009?\n",
    "\n",
    "\n",
    "3. How many awards was Kendrick Lamar nomiated for, and how many did he win...?"
   ]
  },
  {
   "cell_type": "markdown",
   "metadata": {},
   "source": [
    "### (Hard) Load the Game Logs for 2022 and add the column names using a dictionary.  \n",
    "* [Link to the data page](https://www.retrosheet.org/gamelogs/)\n",
    "* [Link to the column names](https://procatinator.com/)\n",
    "* haha, gotta find them yourself!"
   ]
  },
  {
   "cell_type": "markdown",
   "metadata": {},
   "source": [
    "### (Extra Hard) Download the files for the past 5 years into a new folder and add them all into one data frame using pandas, then save that new file.\n",
    "* Try to not hard code in the file names. We want to do this programmatically because what if we want to add new/more file names in the future."
   ]
  },
  {
   "cell_type": "code",
   "execution_count": null,
   "metadata": {},
   "outputs": [],
   "source": []
  }
 ],
 "metadata": {
  "kernelspec": {
   "display_name": "Python 3 (ipykernel)",
   "language": "python",
   "name": "python3"
  },
  "language_info": {
   "codemirror_mode": {
    "name": "ipython",
    "version": 3
   },
   "file_extension": ".py",
   "mimetype": "text/x-python",
   "name": "python",
   "nbconvert_exporter": "python",
   "pygments_lexer": "ipython3",
   "version": "3.12.4"
  }
 },
 "nbformat": 4,
 "nbformat_minor": 4
}
