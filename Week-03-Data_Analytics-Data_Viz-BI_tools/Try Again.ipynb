{
 "cells": [
  {
   "cell_type": "code",
   "execution_count": 24,
   "id": "520b6c75-925e-4de5-bd9a-ed6a1f80eeb0",
   "metadata": {
    "tags": []
   },
   "outputs": [],
   "source": [
    "# Import pandas\n",
    "import pandas as pd\n",
    "import matplotlib.pyplot as plt\n"
   ]
  },
  {
   "cell_type": "code",
   "execution_count": 2,
   "id": "cc7fa726-c2fd-4cfd-9970-7da5371638be",
   "metadata": {
    "tags": []
   },
   "outputs": [],
   "source": [
    "# Load in the listings data\n",
    "df=pd.read_csv('data/listings.csv')"
   ]
  },
  {
   "cell_type": "markdown",
   "id": "859bfd59-1ab7-4b81-9953-7b88ff7cc1bb",
   "metadata": {},
   "source": [
    "####  Exercise 1: Create a bar chart and dataframe of top 10 Neigborhoods that have the most expensive listsings on average. \n",
    "Our goal is to make a chart reflecting the top 10 most expensive Neighborhoods.\n",
    "This is a little dubious - we assign \"expensive\" by calculating the average cost of \n",
    "an AirBnB in each neighborhood.\n",
    "\n",
    "1. Make a dataframe that sorts the neighborhood field by decending price.  \n",
    "1. Use head to cut back top the top 10\n",
    "1. Use pandas.plot.barh to generate a histogram (see [this](https://pandas.pydata.org/pandas-docs/stable/reference/api/pandas.DataFrame.plot.barh.html) wiki for details on pandas.plot.barh)\n",
    "1. Display the data that you used to create the bar chart as a table with neighborhood and average price as the columns.  You want this to match the pivot that you create in youur dashboard"
   ]
  },
  {
   "cell_type": "code",
   "execution_count": 17,
   "id": "52f83939-3f09-40ac-baab-794afa048f92",
   "metadata": {
    "tags": []
   },
   "outputs": [
    {
     "name": "stdout",
     "output_type": "stream",
     "text": [
      "[92.81395348837209, 119.2, 125.05, 249.07042253521126, 97.2974828375286, 92.78947368421052, 237.16666666666666, 99.51633986928104, 110.2, 55.0, 81.75, 138.33333333333334, 98.4375, 106.78126817917394, 216.75, 88.7, 62.333333333333336, 73.12121212121212, 118.3125, 189.8421052631579, 67.8425925925926, 228.66666666666666, 366.1621621621622, 120.63513513513513, 62.666666666666664, 201.10526315789474, 102.475, 49.666666666666664, 83.26516853932584, 87.86666666666666, 103.33908045977012, 174.1889400921659, 71.66666666666667, 117.0, 216.90714285714284, 138.66580976863753, 118.25, 159.44444444444446, 83.23076923076923, 90.04, 107.33333333333333, 175.16390423572744, 61.333333333333336, 191.35106382978722, 94.39285714285714, 173.46341463414635, 68.75, 84.80701754385964, 67.76315789473684, 94.53333333333333, 70.04054054054055, 112.08008213552361, 160.27272727272728, 189.7027027027027, 98.02573529411765, 115.8, 158.55555555555554, 149.70666666666668, 88.23529411764706, 82.5204081632653, 86.5397148676171, 136.62637362637363, 93.82352941176471, 95.29741379310344, 174.72336668628606, 158.4, 103.75, 96.5, 64.59469696969697, 156.5, 73.6, 148.78787878787878, 281.5, 335.38505747126436, 91.56798623063683, 367.4155844155844, 99.70731707317073, 96.70145631067962, 77.04444444444445, 122.35964912280701, 154.84331797235023, 112.66666666666667, 800.0, 136.35294117647058, 100.0, 61.719298245614034, 162.5377777777778, 193.51384615384615, 76.5, 58.4, 93.06024096385542, 68.33333333333333, 139.21178821178822, 247.99415204678363, 139.5, 117.91330403515781, 201.84015069967708, 76.9, 78.0, 171.0, 142.95652173913044, 164.75, 180.0, 56.583333333333336, 78.35772357723577, 79.57798165137615, 91.92468619246861, 233.22727272727272, 83.16666666666667, 97.83660130718954, 108.17647058823529, 114.24242424242425, 92.32352941176471, 189.24590163934425, 84.67647058823529, 147.5, 221.18705035971223, 88.5, 141.4868913857678, 95.63492063492063, 196.62048192771084, 115.72727272727273, 89.6923076923077, 84.18181818181819, 88.99180327868852, 64.625, 124.61764705882354, 100.14285714285714, 291.79462102689484, 81.76635514018692, 103.44444444444444, 103.59177215189874, 75.33333333333333, 69.95238095238095, 83.03846153846153, 98.94915254237289, 66.8, 92.60714285714286, 217.7058823529412, 109.3076923076923, 275.0, 52.25, 103.33333333333333, 78.0, 79.66666666666667, 261.45588235294116, 184.1457627118644, 93.5, 75.10526315789474, 107.2, 59.42857142857143, 82.671875, 168.5557894736842, 84.39583333333333, 131.92307692307693, 117.23333333333333, 94.66666666666667, 51.22222222222222, 300.0, 142.0762195121951, 108.30859375, 95.94029850746269, 189.6153846153846, 146.67088607594937, 92.86315789473684, 92.21875, 76.0, 83.1875, 248.6, 163.54098360655738, 99.33695652173913, 138.25, 80.45333333333333, 61.0, 62.0, 418.2307692307692, 152.77777777777777, 145.33333333333334, 93.25, 260.1064425770308, 52.05555555555556, 45.0, 90.21621621621621, 144.88446215139442, 107.47727272727273, 209.66666666666666, 96.71604938271605, 120.05454545454545, 104.0, 174.71428571428572, 82.8586387434555, 102.76302083333333, 253.5257142857143, 96.77777777777777, 227.0, 80.94736842105263, 309.0, 78.5, 381.10714285714283, 104.27692307692308, 134.6153846153846, 57.82608695652174, 183.9128081779916, 193.31848184818483, 110.14285714285714, 218.48, 108.68354430379746, 99.63246899661782, 89.26315789473684, 70.0, 234.5958041958042, 70.875, 92.5, 120.58333333333333, 111.88888888888889, 132.44979919678715, 309.0, 129.7448275862069, 71.98936170212765, 99.16666666666667, 700.0, 61.473837209302324]\n"
     ]
    }
   ],
   "source": [
    "# our goal is to make a chart reflecting the top 10 most expensive Neighborhoods\n",
    "# This is a little dubious - we assign \"expensive\" by calculating the average cost of \n",
    "# an AirBnB in each neighborhood, then we take the top ten and weight each slice \n",
    "# by the average value.\n",
    "#\n",
    "# make a dataframe that sorts the neighborhood field by decending price.  \n",
    "# Use head to cut back top the top 10. Then, use df.plot.barh to generate a histogram.\n",
    "\n",
    "grouped_neighborhood = df.groupby('neighbourhood')['price'].mean()\n",
    "\n",
    "print(list(grouped_neighborhood))\n",
    "\n",
    "\n",
    "\n",
    "sorted_neighborhood_10 = grouped_neighborhood.sort_values(ascending = False).head(10)"
   ]
  },
  {
   "cell_type": "code",
   "execution_count": 27,
   "id": "f96404b4-04de-4365-b11c-ceea9ef92468",
   "metadata": {
    "tags": []
   },
   "outputs": [
    {
     "name": "stdout",
     "output_type": "stream",
     "text": [
      "   level_0  index       neighbourhood       price\n",
      "0        0      0      Fort Wadsworth  800.000000\n",
      "1        1      1             Woodrow  700.000000\n",
      "2        2      2            Sea Gate  418.230769\n",
      "3        3      3             Tribeca  381.107143\n",
      "4        4      4   Flatiron District  367.415584\n",
      "5        5      5           Briarwood  366.162162\n",
      "6        6      6  Financial District  335.385057\n",
      "7        7      7         Willowbrook  309.000000\n",
      "8        8      8         Tottenville  309.000000\n",
      "9        9      9        Prince's Bay  300.000000\n"
     ]
    },
    {
     "ename": "ValueError",
     "evalue": "cannot insert level_0, already exists",
     "output_type": "error",
     "traceback": [
      "\u001b[0;31m---------------------------------------------------------------------------\u001b[0m",
      "\u001b[0;31mValueError\u001b[0m                                Traceback (most recent call last)",
      "\u001b[0;32m/var/folders/b7/glb1grtn68b7mpnrgccc9ykc0000gn/T/ipykernel_1403/1310385594.py\u001b[0m in \u001b[0;36m?\u001b[0;34m()\u001b[0m\n\u001b[1;32m      1\u001b[0m \u001b[0;31m# Display the DataFrame\u001b[0m\u001b[0;34m\u001b[0m\u001b[0;34m\u001b[0m\u001b[0m\n\u001b[1;32m      2\u001b[0m \u001b[0mprint\u001b[0m\u001b[0;34m(\u001b[0m\u001b[0msorted_neighborhood_10\u001b[0m\u001b[0;34m)\u001b[0m\u001b[0;34m\u001b[0m\u001b[0;34m\u001b[0m\u001b[0m\n\u001b[1;32m      3\u001b[0m \u001b[0;34m\u001b[0m\u001b[0m\n\u001b[1;32m      4\u001b[0m \u001b[0;31m# Reset the index\u001b[0m\u001b[0;34m\u001b[0m\u001b[0;34m\u001b[0m\u001b[0m\n\u001b[0;32m----> 5\u001b[0;31m \u001b[0msorted_neighborhood_10\u001b[0m \u001b[0;34m=\u001b[0m \u001b[0msorted_neighborhood_10\u001b[0m\u001b[0;34m.\u001b[0m\u001b[0mreset_index\u001b[0m\u001b[0;34m(\u001b[0m\u001b[0;34m)\u001b[0m\u001b[0;34m\u001b[0m\u001b[0;34m\u001b[0m\u001b[0m\n\u001b[0m\u001b[1;32m      6\u001b[0m \u001b[0;34m\u001b[0m\u001b[0m\n\u001b[1;32m      7\u001b[0m \u001b[0;31m# Check the columns\u001b[0m\u001b[0;34m\u001b[0m\u001b[0;34m\u001b[0m\u001b[0m\n\u001b[1;32m      8\u001b[0m \u001b[0mprint\u001b[0m\u001b[0;34m(\u001b[0m\u001b[0;34m\"Columns after reset_index():\"\u001b[0m\u001b[0;34m,\u001b[0m \u001b[0msorted_neighborhood_10\u001b[0m\u001b[0;34m.\u001b[0m\u001b[0mcolumns\u001b[0m\u001b[0;34m)\u001b[0m\u001b[0;34m\u001b[0m\u001b[0;34m\u001b[0m\u001b[0m\n",
      "\u001b[0;32m~/anaconda3/lib/python3.12/site-packages/pandas/core/frame.py\u001b[0m in \u001b[0;36m?\u001b[0;34m(self, level, drop, inplace, col_level, col_fill, allow_duplicates, names)\u001b[0m\n\u001b[1;32m   6468\u001b[0m                     level_values = algorithms.take(\n\u001b[1;32m   6469\u001b[0m                         \u001b[0mlevel_values\u001b[0m\u001b[0;34m,\u001b[0m \u001b[0mlab\u001b[0m\u001b[0;34m,\u001b[0m \u001b[0mallow_fill\u001b[0m\u001b[0;34m=\u001b[0m\u001b[0;32mTrue\u001b[0m\u001b[0;34m,\u001b[0m \u001b[0mfill_value\u001b[0m\u001b[0;34m=\u001b[0m\u001b[0mlev\u001b[0m\u001b[0;34m.\u001b[0m\u001b[0m_na_value\u001b[0m\u001b[0;34m\u001b[0m\u001b[0;34m\u001b[0m\u001b[0m\n\u001b[1;32m   6470\u001b[0m                     \u001b[0;34m)\u001b[0m\u001b[0;34m\u001b[0m\u001b[0;34m\u001b[0m\u001b[0m\n\u001b[1;32m   6471\u001b[0m \u001b[0;34m\u001b[0m\u001b[0m\n\u001b[0;32m-> 6472\u001b[0;31m                 new_obj.insert(\n\u001b[0m\u001b[1;32m   6473\u001b[0m                     \u001b[0;36m0\u001b[0m\u001b[0;34m,\u001b[0m\u001b[0;34m\u001b[0m\u001b[0;34m\u001b[0m\u001b[0m\n\u001b[1;32m   6474\u001b[0m                     \u001b[0mname\u001b[0m\u001b[0;34m,\u001b[0m\u001b[0;34m\u001b[0m\u001b[0;34m\u001b[0m\u001b[0m\n\u001b[1;32m   6475\u001b[0m                     \u001b[0mlevel_values\u001b[0m\u001b[0;34m,\u001b[0m\u001b[0;34m\u001b[0m\u001b[0;34m\u001b[0m\u001b[0m\n",
      "\u001b[0;32m~/anaconda3/lib/python3.12/site-packages/pandas/core/frame.py\u001b[0m in \u001b[0;36m?\u001b[0;34m(self, loc, column, value, allow_duplicates)\u001b[0m\n\u001b[1;32m   5154\u001b[0m                 \u001b[0;34m\"'self.flags.allows_duplicate_labels' is False.\"\u001b[0m\u001b[0;34m\u001b[0m\u001b[0;34m\u001b[0m\u001b[0m\n\u001b[1;32m   5155\u001b[0m             \u001b[0;34m)\u001b[0m\u001b[0;34m\u001b[0m\u001b[0;34m\u001b[0m\u001b[0m\n\u001b[1;32m   5156\u001b[0m         \u001b[0;32mif\u001b[0m \u001b[0;32mnot\u001b[0m \u001b[0mallow_duplicates\u001b[0m \u001b[0;32mand\u001b[0m \u001b[0mcolumn\u001b[0m \u001b[0;32min\u001b[0m \u001b[0mself\u001b[0m\u001b[0;34m.\u001b[0m\u001b[0mcolumns\u001b[0m\u001b[0;34m:\u001b[0m\u001b[0;34m\u001b[0m\u001b[0;34m\u001b[0m\u001b[0m\n\u001b[1;32m   5157\u001b[0m             \u001b[0;31m# Should this be a different kind of error??\u001b[0m\u001b[0;34m\u001b[0m\u001b[0;34m\u001b[0m\u001b[0m\n\u001b[0;32m-> 5158\u001b[0;31m             \u001b[0;32mraise\u001b[0m \u001b[0mValueError\u001b[0m\u001b[0;34m(\u001b[0m\u001b[0;34mf\"\u001b[0m\u001b[0;34mcannot insert \u001b[0m\u001b[0;34m{\u001b[0m\u001b[0mcolumn\u001b[0m\u001b[0;34m}\u001b[0m\u001b[0;34m, already exists\u001b[0m\u001b[0;34m\"\u001b[0m\u001b[0;34m)\u001b[0m\u001b[0;34m\u001b[0m\u001b[0;34m\u001b[0m\u001b[0m\n\u001b[0m\u001b[1;32m   5159\u001b[0m         \u001b[0;32mif\u001b[0m \u001b[0;32mnot\u001b[0m \u001b[0mis_integer\u001b[0m\u001b[0;34m(\u001b[0m\u001b[0mloc\u001b[0m\u001b[0;34m)\u001b[0m\u001b[0;34m:\u001b[0m\u001b[0;34m\u001b[0m\u001b[0;34m\u001b[0m\u001b[0m\n\u001b[1;32m   5160\u001b[0m             \u001b[0;32mraise\u001b[0m \u001b[0mTypeError\u001b[0m\u001b[0;34m(\u001b[0m\u001b[0;34m\"loc must be int\"\u001b[0m\u001b[0;34m)\u001b[0m\u001b[0;34m\u001b[0m\u001b[0;34m\u001b[0m\u001b[0m\n\u001b[1;32m   5161\u001b[0m         \u001b[0;31m# convert non stdlib ints to satisfy typing checks\u001b[0m\u001b[0;34m\u001b[0m\u001b[0;34m\u001b[0m\u001b[0m\n",
      "\u001b[0;31mValueError\u001b[0m: cannot insert level_0, already exists"
     ]
    }
   ],
   "source": [
    "# Display the DataFrame\n",
    "print(sorted_neighborhood_10)\n",
    "\n",
    "# Reset the index\n",
    "sorted_neighborhood_10 = sorted_neighborhood_10.reset_index()\n",
    "\n",
    "# Check the columns\n",
    "print(\"Columns after reset_index():\", sorted_neighborhood_10.columns)\n",
    "\n",
    "# Rename the columns appropriately\n",
    "# Let's assume there are three columns after reset_index()\n",
    "sorted_neighborhood_10.columns = ['neighbourhood', 'price', 'other_column']  # Adjust as needed\n",
    "\n",
    "# If you only want 'neighbourhood' and 'price' columns\n",
    "sorted_neighborhood_10 = sorted_neighborhood_10[['neighbourhood', 'price']]\n",
    "\n",
    "# Display the DataFrame\n",
    "print(sorted_neighborhood_10)\n",
    "\n",
    "# Plot the horizontal bar chart\n",
    "ax = sorted_neighborhood_10.plot.barh(x='neighbourhood', y='price', legend=False, figsize=(10, 6))\n",
    "\n",
    "# Add labels and title\n",
    "plt.xlabel('Price')\n",
    "plt.ylabel('Neighbourhood')\n",
    "plt.title('Top 10 Neighbourhoods by Price')\n",
    "\n",
    "# Display the plot\n",
    "plt.tight_layout()\n",
    "plt.show()\n"
   ]
  },
  {
   "cell_type": "markdown",
   "id": "0eecec35-4f94-4faf-9d98-f16211801ffd",
   "metadata": {},
   "source": [
    "####  Exercise 2: Create a bar chart and dataframe of top 10 Neigborhoods that have the LEAST expensive listsings on average. \n",
    "\n",
    "Do the same thing you just did, but get the 10 least expensive neighborhoods.  Sort them from lowest average price to highest.  Bew wure to provide a pivot table."
   ]
  },
  {
   "cell_type": "code",
   "execution_count": null,
   "id": "b1712997-2ab1-4dee-b506-f448b4c0829e",
   "metadata": {
    "tags": []
   },
   "outputs": [],
   "source": [
    "# Here we make the same chart using the bottom 10 Neighborhoods\n",
    "# by average price.  We sort ascending in this one."
   ]
  },
  {
   "cell_type": "code",
   "execution_count": null,
   "id": "92a1d4e4-4bae-411b-aee8-3d41b89c6272",
   "metadata": {
    "tags": []
   },
   "outputs": [],
   "source": [
    "# we also would like to have the corresponding pivot table of the lowest 10"
   ]
  },
  {
   "cell_type": "markdown",
   "id": "87ac7c97-b384-42d2-abdb-a26e98b12179",
   "metadata": {},
   "source": [
    "#  Now make all four widgets (the two charts and the two dataframes) in a Tableau dashboard!"
   ]
  },
  {
   "cell_type": "markdown",
   "id": "3b9ecbbc",
   "metadata": {},
   "source": []
  }
 ],
 "metadata": {
  "kernelspec": {
   "display_name": "Python 3 (ipykernel)",
   "language": "python",
   "name": "python3"
  },
  "language_info": {
   "codemirror_mode": {
    "name": "ipython",
    "version": 3
   },
   "file_extension": ".py",
   "mimetype": "text/x-python",
   "name": "python",
   "nbconvert_exporter": "python",
   "pygments_lexer": "ipython3",
   "version": "3.12.4"
  }
 },
 "nbformat": 4,
 "nbformat_minor": 5
}
